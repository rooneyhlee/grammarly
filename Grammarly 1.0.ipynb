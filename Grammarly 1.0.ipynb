{
 "cells": [
  {
   "cell_type": "code",
   "execution_count": 4,
   "metadata": {},
   "outputs": [],
   "source": [
    "from selenium import webdriver\n",
    "from selenium.webdriver.common.keys import Keys\n",
    "import threading\n",
    "import re\n",
    "from time import sleep\n",
    "import time\n",
    "# from docx import Document - use if \n"
   ]
  },
  {
   "cell_type": "code",
   "execution_count": null,
   "metadata": {},
   "outputs": [],
   "source": [
    "'''\n",
    "#Insert if you have the python-docx.\n",
    "\n",
    "filename = \"/Users/student/Desktop/cover-letter.docx\"\n",
    "coverletter = Document(filename)\n",
    "content = ''\n",
    "\n",
    "for para in coverletter.paragraphs:\n",
    "    content += para.text\n",
    "    content += '\\n'\n",
    "'''"
   ]
  },
  {
   "cell_type": "code",
   "execution_count": 5,
   "metadata": {},
   "outputs": [],
   "source": [
    "# Input Content manually or use the Docx extension to upload the text\n",
    "content= '''Please accept my application for Cybersecurity Co-op position. During my career exploration, I connected with ________. Based on our discussion, Deloitte and cybersecurity aligned closely with my expectation of ideal career and my exceptional curiosity and creativity. So, I started researching the company and noticed that the requirements of cybersecurity Co-op resembled my dauntless and inquisitive approaches to intellectually stimulating challenges. \n",
    "\n",
    "Based on Deloitte’s Changing faces of cybersecurity report, I identify as both a scientist and a hacker. I have always been passionate about finding life hacks. Always searching for creative workarounds and places where I can profit from various services. For example, I am independently developing a python program to use the majority of premium features of an online grammar checker, Grammarly. Also, in my technology-oriented master’s program, I am excelling in business processes, data and information infrastructures, and programming. Therefore, I possess great potential to develop strong security analysis skill with both my passion and skill sets. Within weeks, I will bring tangible value to Deloitte by creating innovative cybersecurity “hacks” to Deloitte’s clients as well.\n",
    "\n",
    "Furthermore, I developed strong leadership and teamwork skills during the competition and entrepreneurial project, where I persevered through demanding cooperation challenges. I maintained effective communications and relationships during these stressful environments by bringing my positivity and charisma.\n",
    "\n",
    "My strong passion, relevant technical skill sets, and creativity qualifies me for a cybersecurity Co-op position. If you have any question, please do not hesitate to contact me. Thank you for your consideration and I hope to hear back from you again.\n",
    "   \n",
    "'''\n",
    "\n",
    "EMAIL =''\n",
    "PASSWORD = ''\n"
   ]
  },
  {
   "cell_type": "code",
   "execution_count": 6,
   "metadata": {},
   "outputs": [],
   "source": [
    "word = []\n",
    "wcounter = 0 \n",
    "sentence = []\n",
    "scounter = 0 \n",
    "\n",
    "for i in range(len(content)):\n",
    "    if content[i] == '\\n' or content[i] == '\\t' or content[i] == ' ' :\n",
    "        word.append(content[wcounter:i])\n",
    "        wcounter = i\n",
    "    if i == '.':\n",
    "        sentence.append(content[scounter:i])\n",
    "        scounter = i\n",
    "        "
   ]
  },
  {
   "cell_type": "code",
   "execution_count": 8,
   "metadata": {},
   "outputs": [],
   "source": [
    "driver = webdriver.Chrome()\n",
    "\n",
    "driver.get(\"https:www.grammarly.com/signin?allowUtmParams=true\")"
   ]
  },
  {
   "cell_type": "markdown",
   "metadata": {},
   "source": [
    "'''try:\n",
    "    log = driver.find_element_by_partial_link_text('LOG IN')\n",
    "except:\n",
    "    log = driver.find_element_by_partial_link_text('Log in')\n",
    "log.click()\n",
    "\n",
    "lol just go to the login page first lol'''"
   ]
  },
  {
   "cell_type": "code",
   "execution_count": 9,
   "metadata": {},
   "outputs": [],
   "source": [
    "email = driver.find_element_by_class_name(\"_2IV5P-_-_-client-guidelines-input_field--input_field-input\").send_keys(EMAIL)\n",
    "password = driver.find_element_by_css_selector(\"input[type='password']\").send_keys(PASSWORD,u'\\ue007')\n",
    "sleep(1.5) # sleep for the lag for like pulling up the page after login"
   ]
  },
  {
   "cell_type": "code",
   "execution_count": 11,
   "metadata": {},
   "outputs": [],
   "source": [
    "driver.find_element_by_class_name(\"_758e07ad-document_item-add\").click() #They changing the class name regularly"
   ]
  },
  {
   "cell_type": "markdown",
   "metadata": {},
   "source": [
    "Because they're changing the class names, I am thinking of using something more static like xpath or using css_selector in find_element function of selenium"
   ]
  },
  {
   "cell_type": "code",
   "execution_count": 12,
   "metadata": {},
   "outputs": [],
   "source": [
    "driver.find_element_by_class_name(\"_69cb9b09-new_toggler-labelReveal\").click()\n",
    "\n",
    "# essential to initiate premium error detection - opens the grammarly navigator"
   ]
  },
  {
   "cell_type": "code",
   "execution_count": 13,
   "metadata": {},
   "outputs": [],
   "source": [
    "preverror = ''\n",
    "error = ''\n",
    "description = ''\n",
    "prevdescription = ''\n",
    "location = []\n",
    "descriptions = []\n",
    "for i in range (len(word)):\n",
    "    contentinput = driver.find_element_by_class_name(\"_9c5f1d66-denali-editor-editor\").send_keys(word[i])\n",
    "    errorlist = []\n",
    "    errors = driver.find_elements_by_class_name('_c98e675a-paidview-advancedBlockWrapper')\n",
    "    try:\n",
    "        driver.find_element_by_class_name('_28063edd-navigation-advancedBtn').click()\n",
    "        e = errors[0].text\n",
    "    except:\n",
    "        e = 0\n",
    "    if e:\n",
    "        error = errors[0].text\n",
    "    if error != preverror:\n",
    "        errorlist.append(i)\n",
    "        preverror = error\n",
    "        \n",
    "        if i not in location:\n",
    "            location.append(i)\n",
    "        print(word[i],'\\n', errors[0].text, '\\n')\n",
    "    sleep(0.06)\n",
    "\n",
    "#for i in location:\n",
    "   # print(\"The problematic word is \" + word[i])"
   ]
  },
  {
   "cell_type": "markdown",
   "metadata": {},
   "source": [
    "I will most likely be using strip to remove the unnecessary texts so I can match the premium error type to the numbers."
   ]
  }
 ],
 "metadata": {
  "kernelspec": {
   "display_name": "Python 3",
   "language": "python",
   "name": "python3"
  },
  "language_info": {
   "codemirror_mode": {
    "name": "ipython",
    "version": 3
   },
   "file_extension": ".py",
   "mimetype": "text/x-python",
   "name": "python",
   "nbconvert_exporter": "python",
   "pygments_lexer": "ipython3",
   "version": "3.7.1"
  }
 },
 "nbformat": 4,
 "nbformat_minor": 2
}
